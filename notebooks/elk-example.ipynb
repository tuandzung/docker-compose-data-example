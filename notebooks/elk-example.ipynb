{
 "cells": [
  {
   "cell_type": "code",
   "execution_count": 2,
   "metadata": {},
   "outputs": [
    {
     "name": "stdout",
     "output_type": "stream",
     "text": [
      "Collecting python-logstash-async\n",
      "  Downloading python_logstash_async-1.6.6-py2.py3-none-any.whl (19 kB)\n",
      "Collecting pylogbeat\n",
      "  Downloading pylogbeat-1.0.4-py2.py3-none-any.whl (10 kB)\n",
      "Collecting limits\n",
      "  Downloading limits-1.5.1.tar.gz (37 kB)\n",
      "Requirement already satisfied: six in /opt/conda/lib/python3.7/site-packages (from python-logstash-async) (1.15.0)\n",
      "Building wheels for collected packages: limits\n",
      "  Building wheel for limits (setup.py) ... \u001b[?25ldone\n",
      "\u001b[?25h  Created wheel for limits: filename=limits-1.5.1-py3-none-any.whl size=15613 sha256=5277aad8d5c80cb0226cf29f0ecb0aaf916f3ff3ad9c1fc6aecd35bc90dfa79b\n",
      "  Stored in directory: /home/jovyan/.cache/pip/wheels/b5/3a/b5/826ef34ce2356c92873e9807739ed37e7f98eb6a883a7bb776\n",
      "Successfully built limits\n",
      "Installing collected packages: pylogbeat, limits, python-logstash-async\n",
      "Successfully installed limits-1.5.1 pylogbeat-1.0.4 python-logstash-async-1.6.6\n"
     ]
    }
   ],
   "source": [
    "!pip install python-logstash-async"
   ]
  },
  {
   "cell_type": "code",
   "execution_count": 3,
   "metadata": {},
   "outputs": [],
   "source": [
    "import logging\n",
    "from logstash_async.handler import AsynchronousLogstashHandler\n",
    "\n",
    "host = 'logstash'\n",
    "port = 5000\n",
    "# Get you a test logger\n",
    "test_logger = logging.getLogger('python-logstash-logger')\n",
    "# Set it to whatever level you want - default will be info\n",
    "test_logger.setLevel(logging.DEBUG)\n",
    "# Create a handler for it\n",
    "async_handler = AsynchronousLogstashHandler(host, port, database_path=None)\n",
    "# Add the handler to the logger\n",
    "test_logger.addHandler(async_handler)"
   ]
  },
  {
   "cell_type": "code",
   "execution_count": 4,
   "metadata": {},
   "outputs": [
    {
     "ename": "KeyboardInterrupt",
     "evalue": "",
     "output_type": "error",
     "traceback": [
      "\u001b[0;31m---------------------------------------------------------------------------\u001b[0m",
      "\u001b[0;31mKeyboardInterrupt\u001b[0m                         Traceback (most recent call last)",
      "\u001b[0;32m<ipython-input-4-ef2fa0ff29c6>\u001b[0m in \u001b[0;36m<module>\u001b[0;34m\u001b[0m\n\u001b[1;32m      2\u001b[0m \u001b[0;32mwhile\u001b[0m \u001b[0;32mTrue\u001b[0m\u001b[0;34m:\u001b[0m\u001b[0;34m\u001b[0m\u001b[0;34m\u001b[0m\u001b[0m\n\u001b[1;32m      3\u001b[0m     \u001b[0mtest_logger\u001b[0m\u001b[0;34m.\u001b[0m\u001b[0minfo\u001b[0m\u001b[0;34m(\u001b[0m\u001b[0;34m\"This is an info message at %s\"\u001b[0m\u001b[0;34m,\u001b[0m \u001b[0mtime\u001b[0m\u001b[0;34m.\u001b[0m\u001b[0mtime\u001b[0m\u001b[0;34m(\u001b[0m\u001b[0;34m)\u001b[0m\u001b[0;34m)\u001b[0m\u001b[0;34m\u001b[0m\u001b[0;34m\u001b[0m\u001b[0m\n\u001b[0;32m----> 4\u001b[0;31m     \u001b[0mtime\u001b[0m\u001b[0;34m.\u001b[0m\u001b[0msleep\u001b[0m\u001b[0;34m(\u001b[0m\u001b[0;36m0.5\u001b[0m\u001b[0;34m)\u001b[0m\u001b[0;34m\u001b[0m\u001b[0;34m\u001b[0m\u001b[0m\n\u001b[0m",
      "\u001b[0;31mKeyboardInterrupt\u001b[0m: "
     ]
    }
   ],
   "source": [
    "import time\n",
    "while True:\n",
    "    test_logger.info(\"This is an info message at %s\", time.time())\n",
    "    time.sleep(0.5)"
   ]
  },
  {
   "cell_type": "code",
   "execution_count": null,
   "metadata": {},
   "outputs": [],
   "source": []
  }
 ],
 "metadata": {
  "kernelspec": {
   "display_name": "Python 3",
   "language": "python",
   "name": "python3"
  },
  "language_info": {
   "codemirror_mode": {
    "name": "ipython",
    "version": 3
   },
   "file_extension": ".py",
   "mimetype": "text/x-python",
   "name": "python",
   "nbconvert_exporter": "python",
   "pygments_lexer": "ipython3",
   "version": "3.7.6"
  }
 },
 "nbformat": 4,
 "nbformat_minor": 4
}
